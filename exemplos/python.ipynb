{
 "cells": [
  {
   "cell_type": "code",
   "execution_count": 2,
   "metadata": {},
   "outputs": [
    {
     "name": "stdout",
     "output_type": "stream",
     "text": [
      "User: edson.melo\n",
      "Score: 50\n",
      "\n"
     ]
    }
   ],
   "source": [
    "import requests as rs\n",
    "import json \n",
    "\n",
    "url = \"\"\n",
    "\n",
    "pay_load = {'type': 'ranking_general'}\n",
    "\n",
    "headers = {'Content-type': 'application/json', 'Accept': 'text/plain'}\n",
    "\n",
    "dados = rs.post(url, data=json.dumps(pay_load), headers=headers)\n",
    "\n",
    "dicionario = json.loads(dados.text)\n",
    "\n",
    "for score in dicionario:\n",
    "    print('User:', str(score.get('User')))\n",
    "    print('Score:', str(score.get('Score')))\n",
    "    print(\"\")\n"
   ]
  },
  {
   "cell_type": "code",
   "execution_count": null,
   "metadata": {},
   "outputs": [],
   "source": []
  }
 ],
 "metadata": {
  "kernelspec": {
   "display_name": "Python 3.10.6 64-bit",
   "language": "python",
   "name": "python3"
  },
  "language_info": {
   "codemirror_mode": {
    "name": "ipython",
    "version": 3
   },
   "file_extension": ".py",
   "mimetype": "text/x-python",
   "name": "python",
   "nbconvert_exporter": "python",
   "pygments_lexer": "ipython3",
   "version": "3.10.6"
  },
  "vscode": {
   "interpreter": {
    "hash": "916dbcbb3f70747c44a77c7bcd40155683ae19c65e1c03b4aa3499c5328201f1"
   }
  }
 },
 "nbformat": 4,
 "nbformat_minor": 4
}
